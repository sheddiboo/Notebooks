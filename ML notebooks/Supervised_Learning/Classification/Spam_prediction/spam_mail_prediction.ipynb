{
 "cells": [
  {
   "cell_type": "markdown",
   "id": "31b8f7ea-cf43-4cf1-baa4-df444c202946",
   "metadata": {},
   "source": [
    "## About the Dataset\n",
    "This dataset contains **83,446 email records** labeled as spam or not-spam (ham). It was created by combining the **2007 TREC Public Spam Corpus** and the **Enron-Spam Dataset**.\n",
    "\n",
    "### Columns\n",
    "\n",
    "- **label**  \n",
    "  - `1`: Spam email  \n",
    "  - `0`: Legitimate (ham) email\n",
    "\n",
    "- **text**  \n",
    "  - The actual content of the email message.\n",
    "\n",
    "### Sources\n",
    "\n",
    "- **2007 TREC Public Spam Corpus**  \n",
    "  - [Original link](https://plg.uwaterloo.ca/~gvcormac/treccorpus07/)  \n"
   ]
  },
  {
   "cell_type": "markdown",
   "id": "b70d8c81-e30d-4fb6-a059-01cfc3c4057c",
   "metadata": {},
   "source": [
    "**Importing Dependencies**"
   ]
  },
  {
   "cell_type": "code",
   "execution_count": 33,
   "id": "f9fdbf87-6dae-4a74-a026-6bb536d5d219",
   "metadata": {},
   "outputs": [],
   "source": [
    "import pandas as pd \n",
    "import numpy as np \n",
    "import joblib\n",
    "from sklearn.model_selection import train_test_split\n",
    "from sklearn.metrics import accuracy_score \n",
    "from sklearn.linear_model import LogisticRegression\n",
    "from sklearn.feature_extraction.text import TfidfVectorizer \n"
   ]
  },
  {
   "cell_type": "markdown",
   "id": "060abf68-c083-4556-8ad9-b87c8b7f40c1",
   "metadata": {},
   "source": [
    "### Data Collection and Proprocessing"
   ]
  },
  {
   "cell_type": "code",
   "execution_count": 16,
   "id": "996b809e-6c2b-4a0f-82f9-8a44d3fe7135",
   "metadata": {},
   "outputs": [
    {
     "data": {
      "text/html": [
       "<div>\n",
       "<style scoped>\n",
       "    .dataframe tbody tr th:only-of-type {\n",
       "        vertical-align: middle;\n",
       "    }\n",
       "\n",
       "    .dataframe tbody tr th {\n",
       "        vertical-align: top;\n",
       "    }\n",
       "\n",
       "    .dataframe thead th {\n",
       "        text-align: right;\n",
       "    }\n",
       "</style>\n",
       "<table border=\"1\" class=\"dataframe\">\n",
       "  <thead>\n",
       "    <tr style=\"text-align: right;\">\n",
       "      <th></th>\n",
       "      <th>label</th>\n",
       "      <th>text</th>\n",
       "    </tr>\n",
       "  </thead>\n",
       "  <tbody>\n",
       "    <tr>\n",
       "      <th>0</th>\n",
       "      <td>1</td>\n",
       "      <td>ounce feather bowl hummingbird opec moment ala...</td>\n",
       "    </tr>\n",
       "    <tr>\n",
       "      <th>1</th>\n",
       "      <td>1</td>\n",
       "      <td>wulvob get your medircations online qnb ikud v...</td>\n",
       "    </tr>\n",
       "    <tr>\n",
       "      <th>2</th>\n",
       "      <td>0</td>\n",
       "      <td>computer connection from cnn com wednesday es...</td>\n",
       "    </tr>\n",
       "    <tr>\n",
       "      <th>3</th>\n",
       "      <td>1</td>\n",
       "      <td>university degree obtain a prosperous future m...</td>\n",
       "    </tr>\n",
       "    <tr>\n",
       "      <th>4</th>\n",
       "      <td>0</td>\n",
       "      <td>thanks for all your answers guys i know i shou...</td>\n",
       "    </tr>\n",
       "  </tbody>\n",
       "</table>\n",
       "</div>"
      ],
      "text/plain": [
       "   label                                               text\n",
       "0      1  ounce feather bowl hummingbird opec moment ala...\n",
       "1      1  wulvob get your medircations online qnb ikud v...\n",
       "2      0   computer connection from cnn com wednesday es...\n",
       "3      1  university degree obtain a prosperous future m...\n",
       "4      0  thanks for all your answers guys i know i shou..."
      ]
     },
     "execution_count": 16,
     "metadata": {},
     "output_type": "execute_result"
    }
   ],
   "source": [
    "# Load the dataset into a pandas dataframe\n",
    "df = pd.read_csv(\"C:/Users/USER/Desktop/Datasets/mail_data.csv\")\n",
    "df.head()"
   ]
  },
  {
   "cell_type": "code",
   "execution_count": 17,
   "id": "ecf7f817-4a6f-4b98-bdd6-4a6eb64d1abc",
   "metadata": {},
   "outputs": [
    {
     "name": "stdout",
     "output_type": "stream",
     "text": [
      "<class 'pandas.core.frame.DataFrame'>\n",
      "RangeIndex: 83448 entries, 0 to 83447\n",
      "Data columns (total 2 columns):\n",
      " #   Column  Non-Null Count  Dtype \n",
      "---  ------  --------------  ----- \n",
      " 0   label   83448 non-null  int64 \n",
      " 1   text    83448 non-null  object\n",
      "dtypes: int64(1), object(1)\n",
      "memory usage: 1.3+ MB\n"
     ]
    }
   ],
   "source": [
    "# Overview of the dataset \n",
    "df.info()"
   ]
  },
  {
   "cell_type": "code",
   "execution_count": 18,
   "id": "daae5d51-b78e-4db7-ba79-9e84a67a0bb1",
   "metadata": {},
   "outputs": [
    {
     "data": {
      "text/plain": [
       "label    0\n",
       "text     0\n",
       "dtype: int64"
      ]
     },
     "execution_count": 18,
     "metadata": {},
     "output_type": "execute_result"
    }
   ],
   "source": [
    "# Checking for missing values \n",
    "df.isna().sum()"
   ]
  },
  {
   "cell_type": "code",
   "execution_count": 19,
   "id": "a0322169-ef35-4964-9dbe-31ba50c82906",
   "metadata": {},
   "outputs": [
    {
     "data": {
      "text/plain": [
       "(83448, 2)"
      ]
     },
     "execution_count": 19,
     "metadata": {},
     "output_type": "execute_result"
    }
   ],
   "source": [
    "# Checking the number of rows and columns \n",
    "df.shape"
   ]
  },
  {
   "cell_type": "code",
   "execution_count": 20,
   "id": "9b0b93f8-2cbb-4c9d-af99-155b19650c92",
   "metadata": {},
   "outputs": [
    {
     "name": "stdout",
     "output_type": "stream",
     "text": [
      "label\n",
      "1    43910\n",
      "0    39538\n",
      "Name: count, dtype: int64\n"
     ]
    }
   ],
   "source": [
    "# Distribution of Labels\n",
    "print(df['label'].value_counts())"
   ]
  },
  {
   "cell_type": "markdown",
   "id": "32ba8ddd-08df-4900-994f-76fce4edea77",
   "metadata": {},
   "source": [
    "**Seperating Features and Target**"
   ]
  },
  {
   "cell_type": "code",
   "execution_count": 21,
   "id": "07bf317c-a770-419e-9024-4ebfe52ed5b5",
   "metadata": {},
   "outputs": [],
   "source": [
    "X = df['text']\n",
    "\n",
    "y = df['label']"
   ]
  },
  {
   "cell_type": "code",
   "execution_count": 22,
   "id": "67814626-2afd-41aa-97a3-fc25b9f20993",
   "metadata": {},
   "outputs": [
    {
     "name": "stdout",
     "output_type": "stream",
     "text": [
      "0        ounce feather bowl hummingbird opec moment ala...\n",
      "1        wulvob get your medircations online qnb ikud v...\n",
      "2         computer connection from cnn com wednesday es...\n",
      "3        university degree obtain a prosperous future m...\n",
      "4        thanks for all your answers guys i know i shou...\n",
      "                               ...                        \n",
      "83443    hi given a date how do i get the last date of ...\n",
      "83444    now you can order software on cd or download i...\n",
      "83445    dear valued member canadianpharmacy provides a...\n",
      "83446    subscribe change profile contact us long term ...\n",
      "83447    get the most out of life ! viagra has helped m...\n",
      "Name: text, Length: 83448, dtype: object\n"
     ]
    }
   ],
   "source": [
    "print(X)"
   ]
  },
  {
   "cell_type": "code",
   "execution_count": 23,
   "id": "1f387a5e-9b30-43d0-b0d9-2f31736d9d9f",
   "metadata": {},
   "outputs": [
    {
     "name": "stdout",
     "output_type": "stream",
     "text": [
      "0        1\n",
      "1        1\n",
      "2        0\n",
      "3        1\n",
      "4        0\n",
      "        ..\n",
      "83443    0\n",
      "83444    1\n",
      "83445    1\n",
      "83446    0\n",
      "83447    1\n",
      "Name: label, Length: 83448, dtype: int64\n"
     ]
    }
   ],
   "source": [
    "print(y)"
   ]
  },
  {
   "cell_type": "markdown",
   "id": "a23df153-8ad2-4a13-90b8-802462845530",
   "metadata": {},
   "source": [
    "**Splitting the data for Training and Testing**"
   ]
  },
  {
   "cell_type": "code",
   "execution_count": 24,
   "id": "b1f8b825-d7b3-4e06-b64e-d3694fc901c8",
   "metadata": {},
   "outputs": [],
   "source": [
    "X_train, X_test, y_train, y_test = train_test_split(X, y, test_size=0.15, stratify=y, random_state=13)"
   ]
  },
  {
   "cell_type": "code",
   "execution_count": 25,
   "id": "9b40bd8c-7f37-4c65-abfa-1cb1fd7c1bf0",
   "metadata": {},
   "outputs": [
    {
     "name": "stdout",
     "output_type": "stream",
     "text": [
      "(83448,) (70930,) (12518,)\n"
     ]
    }
   ],
   "source": [
    "print(X.shape, X_train.shape, X_test.shape)"
   ]
  },
  {
   "cell_type": "markdown",
   "id": "74561a5e-d088-4504-8f69-f058958757e8",
   "metadata": {},
   "source": [
    "**Feature Extraction**"
   ]
  },
  {
   "cell_type": "code",
   "execution_count": 26,
   "id": "8617368d-3cd3-46c9-bb77-f3114a8bc5dc",
   "metadata": {},
   "outputs": [],
   "source": [
    "# Tranforming the text data into feature vectors that can be used as input \n",
    "feaure_extraction = TfidfVectorizer(min_df=1, stop_words='english', lowercase=True)\n",
    "\n",
    "X_train_features = feaure_extraction.fit_transform(X_train)\n",
    "\n",
    "X_test_features = feaure_extraction.transform(X_test)\n"
   ]
  },
  {
   "cell_type": "code",
   "execution_count": 27,
   "id": "aba2f19e-7147-4a3a-86fc-f3fa49137266",
   "metadata": {
    "scrolled": true
   },
   "outputs": [
    {
     "name": "stdout",
     "output_type": "stream",
     "text": [
      "  (0, 183954)\t0.08754979972284799\n",
      "  (0, 60212)\t0.09799943920431366\n",
      "  (0, 74753)\t0.07039102117660517\n",
      "  (0, 118053)\t0.11100140581522831\n",
      "  (0, 114938)\t0.06773804711064588\n",
      "  (0, 236455)\t0.07004903270626044\n",
      "  (0, 195017)\t0.13174060829705148\n",
      "  (0, 116300)\t0.13001992397122278\n",
      "  (0, 43665)\t0.09133665799716531\n",
      "  (0, 69301)\t0.11957028448975711\n",
      "  (0, 116586)\t0.058780540487749916\n",
      "  (0, 235085)\t0.07284798355537027\n",
      "  (0, 52485)\t0.0294715087755479\n",
      "  (0, 189705)\t0.12850217283181586\n",
      "  (0, 54839)\t0.07569484785409025\n",
      "  (0, 245749)\t0.08791280939037796\n",
      "  (0, 209640)\t0.056234313093813576\n",
      "  (0, 233956)\t0.08778429682461272\n",
      "  (0, 53827)\t0.05655867329814715\n",
      "  (0, 53208)\t0.1228087199549927\n",
      "  (0, 117003)\t0.1038429053122085\n",
      "  (0, 88315)\t0.07080725086098363\n",
      "  (0, 64348)\t0.06928949972157673\n",
      "  (0, 118574)\t0.13889915240536985\n",
      "  (0, 160469)\t0.12591633205274314\n",
      "  :\t:\n",
      "  (70929, 137359)\t0.06714283228408376\n",
      "  (70929, 69256)\t0.24505520286332158\n",
      "  (70929, 23599)\t0.07006186953130562\n",
      "  (70929, 234497)\t0.07654877781603868\n",
      "  (70929, 107704)\t0.08511575010803492\n",
      "  (70929, 182011)\t0.07143669072112245\n",
      "  (70929, 40096)\t0.0773239643186343\n",
      "  (70929, 53302)\t0.08453829373611522\n",
      "  (70929, 59576)\t0.1546479286372686\n",
      "  (70929, 247585)\t0.10184602344013266\n",
      "  (70929, 193917)\t0.08572932032751795\n",
      "  (70929, 252483)\t0.10363531388919324\n",
      "  (70929, 136665)\t0.09353070409030058\n",
      "  (70929, 193953)\t0.19366563611664023\n",
      "  (70929, 248575)\t0.10582522841250545\n",
      "  (70929, 252435)\t0.297068197744897\n",
      "  (70929, 116903)\t0.10864851927100579\n",
      "  (70929, 261398)\t0.3259455578130174\n",
      "  (70929, 91236)\t0.11262772424337858\n",
      "  (70929, 116984)\t0.33788317273013574\n",
      "  (70929, 133628)\t0.22525544848675716\n",
      "  (70929, 24961)\t0.11262772424337858\n",
      "  (70929, 205253)\t0.11262772424337858\n",
      "  (70929, 87702)\t0.22525544848675716\n",
      "  (70929, 209418)\t0.11262772424337858\n"
     ]
    }
   ],
   "source": [
    "print(X_train_features)"
   ]
  },
  {
   "cell_type": "code",
   "execution_count": 28,
   "id": "df5630b1-3e5e-4a01-ad9d-b466fc793b8e",
   "metadata": {
    "scrolled": true
   },
   "outputs": [
    {
     "name": "stdout",
     "output_type": "stream",
     "text": [
      "  (0, 925)\t0.11816979803972225\n",
      "  (0, 2230)\t0.056767647436147185\n",
      "  (0, 2759)\t0.05303384309002133\n",
      "  (0, 3403)\t0.04413790346575052\n",
      "  (0, 4045)\t0.11842272043764224\n",
      "  (0, 4853)\t0.06963862505344807\n",
      "  (0, 4870)\t0.06354585148592368\n",
      "  (0, 10740)\t0.07206508920459255\n",
      "  (0, 11098)\t0.0626884757772671\n",
      "  (0, 12391)\t0.06682510159126231\n",
      "  (0, 12971)\t0.15926823104824103\n",
      "  (0, 15645)\t0.042756545833470196\n",
      "  (0, 16898)\t0.048980091212768126\n",
      "  (0, 27355)\t0.11143650195198934\n",
      "  (0, 27356)\t0.05303384309002133\n",
      "  (0, 29807)\t0.07804630007173785\n",
      "  (0, 30498)\t0.037940213378149235\n",
      "  (0, 30538)\t0.07665232277094333\n",
      "  (0, 30539)\t0.05002948767292065\n",
      "  (0, 31136)\t0.04454068862193913\n",
      "  (0, 33847)\t0.025449483431728284\n",
      "  (0, 35092)\t0.05178215898645322\n",
      "  (0, 38904)\t0.0811632793913832\n",
      "  (0, 40091)\t0.0456266742450803\n",
      "  (0, 41467)\t0.027317458982151006\n",
      "  :\t:\n",
      "  (12517, 129583)\t0.06439623136059924\n",
      "  (12517, 140950)\t0.06413539532931418\n",
      "  (12517, 140996)\t0.07576216409674771\n",
      "  (12517, 145923)\t0.07312210213208861\n",
      "  (12517, 145941)\t0.07599939598169124\n",
      "  (12517, 148206)\t0.08452851167865434\n",
      "  (12517, 152880)\t0.08477246620459952\n",
      "  (12517, 159313)\t0.43577251122598565\n",
      "  (12517, 171385)\t0.06265814924704828\n",
      "  (12517, 174297)\t0.1022870564493378\n",
      "  (12517, 179536)\t0.14771964679508512\n",
      "  (12517, 184062)\t0.1684813966740252\n",
      "  (12517, 187412)\t0.07794827877969533\n",
      "  (12517, 188246)\t0.07182873354855071\n",
      "  (12517, 194813)\t0.07099252196181076\n",
      "  (12517, 198635)\t0.08549301975461807\n",
      "  (12517, 208657)\t0.24435227628004713\n",
      "  (12517, 209971)\t0.08037612889394598\n",
      "  (12517, 220946)\t0.16940747197696082\n",
      "  (12517, 230572)\t0.06745606816206312\n",
      "  (12517, 232767)\t0.06080639638443655\n",
      "  (12517, 248059)\t0.08860424134448813\n",
      "  (12517, 257232)\t0.07449787862103095\n",
      "  (12517, 257742)\t0.060435249392645475\n",
      "  (12517, 263978)\t0.19340443096775256\n"
     ]
    }
   ],
   "source": [
    "print(X_test_features)"
   ]
  },
  {
   "cell_type": "markdown",
   "id": "4e788cae-1ea0-4cfa-b728-51c16fbebdcf",
   "metadata": {},
   "source": [
    "### Model Trainining and Evaluation"
   ]
  },
  {
   "cell_type": "markdown",
   "id": "88a87971-208a-4da3-a6c3-92ab36e3948b",
   "metadata": {},
   "source": [
    "**Model Training: LogisticRegression**"
   ]
  },
  {
   "cell_type": "code",
   "execution_count": 29,
   "id": "4d649ff1-5976-459e-baae-452559e58cde",
   "metadata": {},
   "outputs": [],
   "source": [
    "model = LogisticRegression()"
   ]
  },
  {
   "cell_type": "code",
   "execution_count": 30,
   "id": "30662bb1-f9ed-4116-8362-eec4ae8cc6d7",
   "metadata": {},
   "outputs": [
    {
     "data": {
      "text/html": [
       "<style>#sk-container-id-1 {\n",
       "  /* Definition of color scheme common for light and dark mode */\n",
       "  --sklearn-color-text: #000;\n",
       "  --sklearn-color-text-muted: #666;\n",
       "  --sklearn-color-line: gray;\n",
       "  /* Definition of color scheme for unfitted estimators */\n",
       "  --sklearn-color-unfitted-level-0: #fff5e6;\n",
       "  --sklearn-color-unfitted-level-1: #f6e4d2;\n",
       "  --sklearn-color-unfitted-level-2: #ffe0b3;\n",
       "  --sklearn-color-unfitted-level-3: chocolate;\n",
       "  /* Definition of color scheme for fitted estimators */\n",
       "  --sklearn-color-fitted-level-0: #f0f8ff;\n",
       "  --sklearn-color-fitted-level-1: #d4ebff;\n",
       "  --sklearn-color-fitted-level-2: #b3dbfd;\n",
       "  --sklearn-color-fitted-level-3: cornflowerblue;\n",
       "\n",
       "  /* Specific color for light theme */\n",
       "  --sklearn-color-text-on-default-background: var(--sg-text-color, var(--theme-code-foreground, var(--jp-content-font-color1, black)));\n",
       "  --sklearn-color-background: var(--sg-background-color, var(--theme-background, var(--jp-layout-color0, white)));\n",
       "  --sklearn-color-border-box: var(--sg-text-color, var(--theme-code-foreground, var(--jp-content-font-color1, black)));\n",
       "  --sklearn-color-icon: #696969;\n",
       "\n",
       "  @media (prefers-color-scheme: dark) {\n",
       "    /* Redefinition of color scheme for dark theme */\n",
       "    --sklearn-color-text-on-default-background: var(--sg-text-color, var(--theme-code-foreground, var(--jp-content-font-color1, white)));\n",
       "    --sklearn-color-background: var(--sg-background-color, var(--theme-background, var(--jp-layout-color0, #111)));\n",
       "    --sklearn-color-border-box: var(--sg-text-color, var(--theme-code-foreground, var(--jp-content-font-color1, white)));\n",
       "    --sklearn-color-icon: #878787;\n",
       "  }\n",
       "}\n",
       "\n",
       "#sk-container-id-1 {\n",
       "  color: var(--sklearn-color-text);\n",
       "}\n",
       "\n",
       "#sk-container-id-1 pre {\n",
       "  padding: 0;\n",
       "}\n",
       "\n",
       "#sk-container-id-1 input.sk-hidden--visually {\n",
       "  border: 0;\n",
       "  clip: rect(1px 1px 1px 1px);\n",
       "  clip: rect(1px, 1px, 1px, 1px);\n",
       "  height: 1px;\n",
       "  margin: -1px;\n",
       "  overflow: hidden;\n",
       "  padding: 0;\n",
       "  position: absolute;\n",
       "  width: 1px;\n",
       "}\n",
       "\n",
       "#sk-container-id-1 div.sk-dashed-wrapped {\n",
       "  border: 1px dashed var(--sklearn-color-line);\n",
       "  margin: 0 0.4em 0.5em 0.4em;\n",
       "  box-sizing: border-box;\n",
       "  padding-bottom: 0.4em;\n",
       "  background-color: var(--sklearn-color-background);\n",
       "}\n",
       "\n",
       "#sk-container-id-1 div.sk-container {\n",
       "  /* jupyter's `normalize.less` sets `[hidden] { display: none; }`\n",
       "     but bootstrap.min.css set `[hidden] { display: none !important; }`\n",
       "     so we also need the `!important` here to be able to override the\n",
       "     default hidden behavior on the sphinx rendered scikit-learn.org.\n",
       "     See: https://github.com/scikit-learn/scikit-learn/issues/21755 */\n",
       "  display: inline-block !important;\n",
       "  position: relative;\n",
       "}\n",
       "\n",
       "#sk-container-id-1 div.sk-text-repr-fallback {\n",
       "  display: none;\n",
       "}\n",
       "\n",
       "div.sk-parallel-item,\n",
       "div.sk-serial,\n",
       "div.sk-item {\n",
       "  /* draw centered vertical line to link estimators */\n",
       "  background-image: linear-gradient(var(--sklearn-color-text-on-default-background), var(--sklearn-color-text-on-default-background));\n",
       "  background-size: 2px 100%;\n",
       "  background-repeat: no-repeat;\n",
       "  background-position: center center;\n",
       "}\n",
       "\n",
       "/* Parallel-specific style estimator block */\n",
       "\n",
       "#sk-container-id-1 div.sk-parallel-item::after {\n",
       "  content: \"\";\n",
       "  width: 100%;\n",
       "  border-bottom: 2px solid var(--sklearn-color-text-on-default-background);\n",
       "  flex-grow: 1;\n",
       "}\n",
       "\n",
       "#sk-container-id-1 div.sk-parallel {\n",
       "  display: flex;\n",
       "  align-items: stretch;\n",
       "  justify-content: center;\n",
       "  background-color: var(--sklearn-color-background);\n",
       "  position: relative;\n",
       "}\n",
       "\n",
       "#sk-container-id-1 div.sk-parallel-item {\n",
       "  display: flex;\n",
       "  flex-direction: column;\n",
       "}\n",
       "\n",
       "#sk-container-id-1 div.sk-parallel-item:first-child::after {\n",
       "  align-self: flex-end;\n",
       "  width: 50%;\n",
       "}\n",
       "\n",
       "#sk-container-id-1 div.sk-parallel-item:last-child::after {\n",
       "  align-self: flex-start;\n",
       "  width: 50%;\n",
       "}\n",
       "\n",
       "#sk-container-id-1 div.sk-parallel-item:only-child::after {\n",
       "  width: 0;\n",
       "}\n",
       "\n",
       "/* Serial-specific style estimator block */\n",
       "\n",
       "#sk-container-id-1 div.sk-serial {\n",
       "  display: flex;\n",
       "  flex-direction: column;\n",
       "  align-items: center;\n",
       "  background-color: var(--sklearn-color-background);\n",
       "  padding-right: 1em;\n",
       "  padding-left: 1em;\n",
       "}\n",
       "\n",
       "\n",
       "/* Toggleable style: style used for estimator/Pipeline/ColumnTransformer box that is\n",
       "clickable and can be expanded/collapsed.\n",
       "- Pipeline and ColumnTransformer use this feature and define the default style\n",
       "- Estimators will overwrite some part of the style using the `sk-estimator` class\n",
       "*/\n",
       "\n",
       "/* Pipeline and ColumnTransformer style (default) */\n",
       "\n",
       "#sk-container-id-1 div.sk-toggleable {\n",
       "  /* Default theme specific background. It is overwritten whether we have a\n",
       "  specific estimator or a Pipeline/ColumnTransformer */\n",
       "  background-color: var(--sklearn-color-background);\n",
       "}\n",
       "\n",
       "/* Toggleable label */\n",
       "#sk-container-id-1 label.sk-toggleable__label {\n",
       "  cursor: pointer;\n",
       "  display: flex;\n",
       "  width: 100%;\n",
       "  margin-bottom: 0;\n",
       "  padding: 0.5em;\n",
       "  box-sizing: border-box;\n",
       "  text-align: center;\n",
       "  align-items: start;\n",
       "  justify-content: space-between;\n",
       "  gap: 0.5em;\n",
       "}\n",
       "\n",
       "#sk-container-id-1 label.sk-toggleable__label .caption {\n",
       "  font-size: 0.6rem;\n",
       "  font-weight: lighter;\n",
       "  color: var(--sklearn-color-text-muted);\n",
       "}\n",
       "\n",
       "#sk-container-id-1 label.sk-toggleable__label-arrow:before {\n",
       "  /* Arrow on the left of the label */\n",
       "  content: \"▸\";\n",
       "  float: left;\n",
       "  margin-right: 0.25em;\n",
       "  color: var(--sklearn-color-icon);\n",
       "}\n",
       "\n",
       "#sk-container-id-1 label.sk-toggleable__label-arrow:hover:before {\n",
       "  color: var(--sklearn-color-text);\n",
       "}\n",
       "\n",
       "/* Toggleable content - dropdown */\n",
       "\n",
       "#sk-container-id-1 div.sk-toggleable__content {\n",
       "  max-height: 0;\n",
       "  max-width: 0;\n",
       "  overflow: hidden;\n",
       "  text-align: left;\n",
       "  /* unfitted */\n",
       "  background-color: var(--sklearn-color-unfitted-level-0);\n",
       "}\n",
       "\n",
       "#sk-container-id-1 div.sk-toggleable__content.fitted {\n",
       "  /* fitted */\n",
       "  background-color: var(--sklearn-color-fitted-level-0);\n",
       "}\n",
       "\n",
       "#sk-container-id-1 div.sk-toggleable__content pre {\n",
       "  margin: 0.2em;\n",
       "  border-radius: 0.25em;\n",
       "  color: var(--sklearn-color-text);\n",
       "  /* unfitted */\n",
       "  background-color: var(--sklearn-color-unfitted-level-0);\n",
       "}\n",
       "\n",
       "#sk-container-id-1 div.sk-toggleable__content.fitted pre {\n",
       "  /* unfitted */\n",
       "  background-color: var(--sklearn-color-fitted-level-0);\n",
       "}\n",
       "\n",
       "#sk-container-id-1 input.sk-toggleable__control:checked~div.sk-toggleable__content {\n",
       "  /* Expand drop-down */\n",
       "  max-height: 200px;\n",
       "  max-width: 100%;\n",
       "  overflow: auto;\n",
       "}\n",
       "\n",
       "#sk-container-id-1 input.sk-toggleable__control:checked~label.sk-toggleable__label-arrow:before {\n",
       "  content: \"▾\";\n",
       "}\n",
       "\n",
       "/* Pipeline/ColumnTransformer-specific style */\n",
       "\n",
       "#sk-container-id-1 div.sk-label input.sk-toggleable__control:checked~label.sk-toggleable__label {\n",
       "  color: var(--sklearn-color-text);\n",
       "  background-color: var(--sklearn-color-unfitted-level-2);\n",
       "}\n",
       "\n",
       "#sk-container-id-1 div.sk-label.fitted input.sk-toggleable__control:checked~label.sk-toggleable__label {\n",
       "  background-color: var(--sklearn-color-fitted-level-2);\n",
       "}\n",
       "\n",
       "/* Estimator-specific style */\n",
       "\n",
       "/* Colorize estimator box */\n",
       "#sk-container-id-1 div.sk-estimator input.sk-toggleable__control:checked~label.sk-toggleable__label {\n",
       "  /* unfitted */\n",
       "  background-color: var(--sklearn-color-unfitted-level-2);\n",
       "}\n",
       "\n",
       "#sk-container-id-1 div.sk-estimator.fitted input.sk-toggleable__control:checked~label.sk-toggleable__label {\n",
       "  /* fitted */\n",
       "  background-color: var(--sklearn-color-fitted-level-2);\n",
       "}\n",
       "\n",
       "#sk-container-id-1 div.sk-label label.sk-toggleable__label,\n",
       "#sk-container-id-1 div.sk-label label {\n",
       "  /* The background is the default theme color */\n",
       "  color: var(--sklearn-color-text-on-default-background);\n",
       "}\n",
       "\n",
       "/* On hover, darken the color of the background */\n",
       "#sk-container-id-1 div.sk-label:hover label.sk-toggleable__label {\n",
       "  color: var(--sklearn-color-text);\n",
       "  background-color: var(--sklearn-color-unfitted-level-2);\n",
       "}\n",
       "\n",
       "/* Label box, darken color on hover, fitted */\n",
       "#sk-container-id-1 div.sk-label.fitted:hover label.sk-toggleable__label.fitted {\n",
       "  color: var(--sklearn-color-text);\n",
       "  background-color: var(--sklearn-color-fitted-level-2);\n",
       "}\n",
       "\n",
       "/* Estimator label */\n",
       "\n",
       "#sk-container-id-1 div.sk-label label {\n",
       "  font-family: monospace;\n",
       "  font-weight: bold;\n",
       "  display: inline-block;\n",
       "  line-height: 1.2em;\n",
       "}\n",
       "\n",
       "#sk-container-id-1 div.sk-label-container {\n",
       "  text-align: center;\n",
       "}\n",
       "\n",
       "/* Estimator-specific */\n",
       "#sk-container-id-1 div.sk-estimator {\n",
       "  font-family: monospace;\n",
       "  border: 1px dotted var(--sklearn-color-border-box);\n",
       "  border-radius: 0.25em;\n",
       "  box-sizing: border-box;\n",
       "  margin-bottom: 0.5em;\n",
       "  /* unfitted */\n",
       "  background-color: var(--sklearn-color-unfitted-level-0);\n",
       "}\n",
       "\n",
       "#sk-container-id-1 div.sk-estimator.fitted {\n",
       "  /* fitted */\n",
       "  background-color: var(--sklearn-color-fitted-level-0);\n",
       "}\n",
       "\n",
       "/* on hover */\n",
       "#sk-container-id-1 div.sk-estimator:hover {\n",
       "  /* unfitted */\n",
       "  background-color: var(--sklearn-color-unfitted-level-2);\n",
       "}\n",
       "\n",
       "#sk-container-id-1 div.sk-estimator.fitted:hover {\n",
       "  /* fitted */\n",
       "  background-color: var(--sklearn-color-fitted-level-2);\n",
       "}\n",
       "\n",
       "/* Specification for estimator info (e.g. \"i\" and \"?\") */\n",
       "\n",
       "/* Common style for \"i\" and \"?\" */\n",
       "\n",
       ".sk-estimator-doc-link,\n",
       "a:link.sk-estimator-doc-link,\n",
       "a:visited.sk-estimator-doc-link {\n",
       "  float: right;\n",
       "  font-size: smaller;\n",
       "  line-height: 1em;\n",
       "  font-family: monospace;\n",
       "  background-color: var(--sklearn-color-background);\n",
       "  border-radius: 1em;\n",
       "  height: 1em;\n",
       "  width: 1em;\n",
       "  text-decoration: none !important;\n",
       "  margin-left: 0.5em;\n",
       "  text-align: center;\n",
       "  /* unfitted */\n",
       "  border: var(--sklearn-color-unfitted-level-1) 1pt solid;\n",
       "  color: var(--sklearn-color-unfitted-level-1);\n",
       "}\n",
       "\n",
       ".sk-estimator-doc-link.fitted,\n",
       "a:link.sk-estimator-doc-link.fitted,\n",
       "a:visited.sk-estimator-doc-link.fitted {\n",
       "  /* fitted */\n",
       "  border: var(--sklearn-color-fitted-level-1) 1pt solid;\n",
       "  color: var(--sklearn-color-fitted-level-1);\n",
       "}\n",
       "\n",
       "/* On hover */\n",
       "div.sk-estimator:hover .sk-estimator-doc-link:hover,\n",
       ".sk-estimator-doc-link:hover,\n",
       "div.sk-label-container:hover .sk-estimator-doc-link:hover,\n",
       ".sk-estimator-doc-link:hover {\n",
       "  /* unfitted */\n",
       "  background-color: var(--sklearn-color-unfitted-level-3);\n",
       "  color: var(--sklearn-color-background);\n",
       "  text-decoration: none;\n",
       "}\n",
       "\n",
       "div.sk-estimator.fitted:hover .sk-estimator-doc-link.fitted:hover,\n",
       ".sk-estimator-doc-link.fitted:hover,\n",
       "div.sk-label-container:hover .sk-estimator-doc-link.fitted:hover,\n",
       ".sk-estimator-doc-link.fitted:hover {\n",
       "  /* fitted */\n",
       "  background-color: var(--sklearn-color-fitted-level-3);\n",
       "  color: var(--sklearn-color-background);\n",
       "  text-decoration: none;\n",
       "}\n",
       "\n",
       "/* Span, style for the box shown on hovering the info icon */\n",
       ".sk-estimator-doc-link span {\n",
       "  display: none;\n",
       "  z-index: 9999;\n",
       "  position: relative;\n",
       "  font-weight: normal;\n",
       "  right: .2ex;\n",
       "  padding: .5ex;\n",
       "  margin: .5ex;\n",
       "  width: min-content;\n",
       "  min-width: 20ex;\n",
       "  max-width: 50ex;\n",
       "  color: var(--sklearn-color-text);\n",
       "  box-shadow: 2pt 2pt 4pt #999;\n",
       "  /* unfitted */\n",
       "  background: var(--sklearn-color-unfitted-level-0);\n",
       "  border: .5pt solid var(--sklearn-color-unfitted-level-3);\n",
       "}\n",
       "\n",
       ".sk-estimator-doc-link.fitted span {\n",
       "  /* fitted */\n",
       "  background: var(--sklearn-color-fitted-level-0);\n",
       "  border: var(--sklearn-color-fitted-level-3);\n",
       "}\n",
       "\n",
       ".sk-estimator-doc-link:hover span {\n",
       "  display: block;\n",
       "}\n",
       "\n",
       "/* \"?\"-specific style due to the `<a>` HTML tag */\n",
       "\n",
       "#sk-container-id-1 a.estimator_doc_link {\n",
       "  float: right;\n",
       "  font-size: 1rem;\n",
       "  line-height: 1em;\n",
       "  font-family: monospace;\n",
       "  background-color: var(--sklearn-color-background);\n",
       "  border-radius: 1rem;\n",
       "  height: 1rem;\n",
       "  width: 1rem;\n",
       "  text-decoration: none;\n",
       "  /* unfitted */\n",
       "  color: var(--sklearn-color-unfitted-level-1);\n",
       "  border: var(--sklearn-color-unfitted-level-1) 1pt solid;\n",
       "}\n",
       "\n",
       "#sk-container-id-1 a.estimator_doc_link.fitted {\n",
       "  /* fitted */\n",
       "  border: var(--sklearn-color-fitted-level-1) 1pt solid;\n",
       "  color: var(--sklearn-color-fitted-level-1);\n",
       "}\n",
       "\n",
       "/* On hover */\n",
       "#sk-container-id-1 a.estimator_doc_link:hover {\n",
       "  /* unfitted */\n",
       "  background-color: var(--sklearn-color-unfitted-level-3);\n",
       "  color: var(--sklearn-color-background);\n",
       "  text-decoration: none;\n",
       "}\n",
       "\n",
       "#sk-container-id-1 a.estimator_doc_link.fitted:hover {\n",
       "  /* fitted */\n",
       "  background-color: var(--sklearn-color-fitted-level-3);\n",
       "}\n",
       "</style><div id=\"sk-container-id-1\" class=\"sk-top-container\"><div class=\"sk-text-repr-fallback\"><pre>LogisticRegression()</pre><b>In a Jupyter environment, please rerun this cell to show the HTML representation or trust the notebook. <br />On GitHub, the HTML representation is unable to render, please try loading this page with nbviewer.org.</b></div><div class=\"sk-container\" hidden><div class=\"sk-item\"><div class=\"sk-estimator fitted sk-toggleable\"><input class=\"sk-toggleable__control sk-hidden--visually\" id=\"sk-estimator-id-1\" type=\"checkbox\" checked><label for=\"sk-estimator-id-1\" class=\"sk-toggleable__label fitted sk-toggleable__label-arrow\"><div><div>LogisticRegression</div></div><div><a class=\"sk-estimator-doc-link fitted\" rel=\"noreferrer\" target=\"_blank\" href=\"https://scikit-learn.org/1.6/modules/generated/sklearn.linear_model.LogisticRegression.html\">?<span>Documentation for LogisticRegression</span></a><span class=\"sk-estimator-doc-link fitted\">i<span>Fitted</span></span></div></label><div class=\"sk-toggleable__content fitted\"><pre>LogisticRegression()</pre></div> </div></div></div></div>"
      ],
      "text/plain": [
       "LogisticRegression()"
      ]
     },
     "execution_count": 30,
     "metadata": {},
     "output_type": "execute_result"
    }
   ],
   "source": [
    "model.fit(X_train_features, y_train)"
   ]
  },
  {
   "cell_type": "markdown",
   "id": "34e03d27-21c0-4422-8b49-181370807bb7",
   "metadata": {},
   "source": [
    "**Evaluation**"
   ]
  },
  {
   "cell_type": "code",
   "execution_count": 31,
   "id": "833358fa-fcfa-4308-bca5-0b43f732b6da",
   "metadata": {},
   "outputs": [
    {
     "name": "stdout",
     "output_type": "stream",
     "text": [
      "Accuracy on training data : 0.9897363597913436\n"
     ]
    }
   ],
   "source": [
    "# prediction on training data\n",
    "prediction_on_training_data = model.predict(X_train_features)\n",
    "\n",
    "# accuracy on training data \n",
    "accurracy_on_training_data = accuracy_score(prediction_on_training_data, y_train)\n",
    "\n",
    "print(\"Accuracy on training data :\", accurracy_on_training_data)"
   ]
  },
  {
   "cell_type": "code",
   "execution_count": 32,
   "id": "b5531072-8717-4597-8966-316f13bdf9cb",
   "metadata": {},
   "outputs": [
    {
     "name": "stdout",
     "output_type": "stream",
     "text": [
      "Accuracy on test data : 0.984023006870107\n"
     ]
    }
   ],
   "source": [
    "# prediction on test data\n",
    "prediction_on_test_data = model.predict(X_test_features)\n",
    "\n",
    "# accuracy on test data \n",
    "accurracy_on_test_data = accuracy_score(prediction_on_test_data, y_test)\n",
    "\n",
    "print(\"Accuracy on test data :\", accurracy_on_test_data)"
   ]
  },
  {
   "cell_type": "code",
   "execution_count": 34,
   "id": "3deaf309-f661-42c3-9cc1-acea513f4f5d",
   "metadata": {},
   "outputs": [
    {
     "data": {
      "text/plain": [
       "['spam_mail_prediction']"
      ]
     },
     "execution_count": 34,
     "metadata": {},
     "output_type": "execute_result"
    }
   ],
   "source": [
    "# Saving the model locally \n",
    "joblib.dump(model, 'spam_mail_prediction')"
   ]
  },
  {
   "cell_type": "code",
   "execution_count": null,
   "id": "6a4bc0d5-3700-4d1d-9f1c-25a4bb87d248",
   "metadata": {},
   "outputs": [],
   "source": []
  },
  {
   "cell_type": "markdown",
   "id": "5a3d39ee-9efa-40d2-ad24-6a5be6ad42b5",
   "metadata": {},
   "source": [
    "**Building a Predictive System**"
   ]
  },
  {
   "cell_type": "code",
   "execution_count": 36,
   "id": "64e7f692-3395-493e-a8f9-6188ab8e3d5f",
   "metadata": {},
   "outputs": [],
   "source": [
    "mail = \"dear valued member its your therapists assistant writing to you i just wanted to give you some really useful advice on how to shop for drugs online its not a secret that many web pharmacies are trying to make profits by selling fake drugs that not only prove to be totally useless but also can cause serious health problems usdrugs is one of very few internet drugstores that always offer only escapenumber generic meds dont hesitate to contact us if you have any questions concerning the information provided if you have any more questions please contact to me please include all previous messages in your email's thank you and best regards rosa arnold email escapelong toshiba eis com www http wgimja superplusnob com gmoilmrxyaix\""
   ]
  },
  {
   "cell_type": "code",
   "execution_count": 37,
   "id": "93b8ce48-21bb-4538-a704-fb137815bbac",
   "metadata": {},
   "outputs": [
    {
     "name": "stdout",
     "output_type": "stream",
     "text": [
      "Email is Valid(ham)\n"
     ]
    }
   ],
   "source": [
    "# Load the saved model\n",
    "loaded_model = joblib.load('spam_mail_prediction')\n",
    "\n",
    "input_mail = [mail]\n",
    "\n",
    "# Convert text to feature vectors \n",
    "input_mail = feaure_extraction.transform(input_mail)\n",
    "\n",
    "# making prediction \n",
    "prediction = loaded_model.predict(input_mail)\n",
    "\n",
    "if (prediction[0]==1):\n",
    "    print(\"Email is Valid(ham)\")\n",
    "else:\n",
    "    print(\"Email is Spam\")\n",
    "    \n",
    "    "
   ]
  }
 ],
 "metadata": {
  "kernelspec": {
   "display_name": "Python 3 (ipykernel)",
   "language": "python",
   "name": "python3"
  },
  "language_info": {
   "codemirror_mode": {
    "name": "ipython",
    "version": 3
   },
   "file_extension": ".py",
   "mimetype": "text/x-python",
   "name": "python",
   "nbconvert_exporter": "python",
   "pygments_lexer": "ipython3",
   "version": "3.12.7"
  }
 },
 "nbformat": 4,
 "nbformat_minor": 5
}
