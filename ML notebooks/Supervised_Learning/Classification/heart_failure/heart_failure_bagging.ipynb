{
 "cells": [
  {
   "cell_type": "markdown",
   "id": "6a1b9cbb-5b1b-46a3-832f-b4d9d4e36c8c",
   "metadata": {},
   "source": [
    "## Heart Failure Dataset \n",
    "Cardiovascular diseases (CVDs) are the **leading cause of death globally**, responsible for approximately **17.9 million deaths annually**—about **31% of all global deaths**. Most of these are caused by heart attacks and strokes, with a third occurring in individuals under 70.\n",
    "\n",
    "Early detection is critical, especially for individuals at high cardiovascular risk (e.g., those with **hypertension, diabetes, or hyperlipidemia**). This dataset is designed to help build machine learning models to **predict heart disease** based on key health indicators.\n",
    "\n",
    "---\n",
    "\n",
    "### Features\n",
    "\n",
    "The dataset contains **11 input features** and **1 target** (`HeartDisease`):\n",
    "\n",
    "| Feature          | Description                                                  |\n",
    "| ---------------- | ------------------------------------------------------------ |\n",
    "| `Age`            | Age of the patient (years)                                   |\n",
    "| `Sex`            | Sex of the patient (`M`: Male, `F`: Female)                  |\n",
    "| `ChestPainType`  | Chest pain type (`TA`, `ATA`, `NAP`, `ASY`)                  |\n",
    "| `RestingBP`      | Resting blood pressure (mm Hg)                               |\n",
    "| `Cholesterol`    | Serum cholesterol (mg/dl)                                    |\n",
    "| `FastingBS`      | Fasting blood sugar (`1` if >120 mg/dl, else `0`)            |\n",
    "| `RestingECG`     | Resting ECG results (`Normal`, `ST`, `LVH`)                  |\n",
    "| `MaxHR`          | Maximum heart rate achieved                                  |\n",
    "| `ExerciseAngina` | Exercise-induced angina (`Y`, `N`)                           |\n",
    "| `Oldpeak`        | ST depression induced by exercise                            |\n",
    "| `ST_Slope`       | Slope of the peak exercise ST segment (`Up`, `Flat`, `Down`) |\n",
    "| `HeartDisease`   | Target: `1` = heart disease, `0` = no disease                |\n",
    "\n",
    "---\n",
    "\n",
    "\n",
    "All datasets are publicly available from the [UCI Machine Learning Repository](https://archive.ics.uci.edu/ml/machine-learning-databases/heart-disease/).\n",
    "\n",
    "---\n",
    "\n",
    "### Citation\n",
    "\n",
    "**Source:** [Kaggle - Heart Failure Prediction](https://www.kaggle.com/fedesoriano/heart-failure-prediction)\n",
    "**Creator:** fedesoriano (September 2021)\n",
    "\n",
    "---\n",
    "\n",
    "#### Acknowledgements\n",
    "\n",
    "**Institutions & Contributors:**\n",
    "\n",
    "* Hungarian Institute of Cardiology, Budapest: *Andras Janosi, M.D.*\n",
    "* University Hospital, Zurich: *William Steinbrunn, M.D.*\n",
    "* University Hospital, Basel: *Matthias Pfisterer, M.D.*\n",
    "* V.A. Medical Center, Long Beach & Cleveland Clinic Foundation: *Robert Detrano, M.D., Ph.D.*\n",
    "* **Donor:** David W. Aha ([aha@ics.uci.edu](mailto:aha@ics.uci.edu))\n",
    "\n"
   ]
  },
  {
   "cell_type": "markdown",
   "id": "ccc056d9-db4d-4373-8147-6516e547472f",
   "metadata": {},
   "source": [
    "**IMPORTING DEPENDENCIES**"
   ]
  },
  {
   "cell_type": "code",
   "execution_count": 14,
   "id": "41f15780-3fc7-4479-8b00-45ebcf4e27f5",
   "metadata": {},
   "outputs": [],
   "source": [
    "import numpy as np\n",
    "import pandas as pd \n",
    "import seaborn as sns\n",
    "import matplotlib.pyplot as plt\n",
    "from sklearn.model_selection import train_test_split, cross_val_score\n",
    "from sklearn.preprocessing import StandardScaler\n",
    "from sklearn.svm import SVC\n",
    "from sklearn.tree import DecisionTreeClassifier\n",
    "from sklearn.ensemble import BaggingClassifier\n",
    "from sklearn.metrics import accuracy_score, classification_report, confusion_matrix"
   ]
  },
  {
   "cell_type": "markdown",
   "id": "ebeac9a3-3263-45db-aff1-0e392d271365",
   "metadata": {},
   "source": [
    "### Data Collection and Pre-Processing"
   ]
  },
  {
   "cell_type": "code",
   "execution_count": 2,
   "id": "d9a8c896-4551-478a-bb0d-3c766dc6dadf",
   "metadata": {},
   "outputs": [],
   "source": [
    "file_path = \"C:/Users/USER/Desktop/Datasets/heart.csv\""
   ]
  },
  {
   "cell_type": "code",
   "execution_count": 3,
   "id": "ff4e4b19-e2a5-4e3d-b429-d7578d60936b",
   "metadata": {},
   "outputs": [
    {
     "data": {
      "text/html": [
       "<div>\n",
       "<style scoped>\n",
       "    .dataframe tbody tr th:only-of-type {\n",
       "        vertical-align: middle;\n",
       "    }\n",
       "\n",
       "    .dataframe tbody tr th {\n",
       "        vertical-align: top;\n",
       "    }\n",
       "\n",
       "    .dataframe thead th {\n",
       "        text-align: right;\n",
       "    }\n",
       "</style>\n",
       "<table border=\"1\" class=\"dataframe\">\n",
       "  <thead>\n",
       "    <tr style=\"text-align: right;\">\n",
       "      <th></th>\n",
       "      <th>Age</th>\n",
       "      <th>Sex</th>\n",
       "      <th>ChestPainType</th>\n",
       "      <th>RestingBP</th>\n",
       "      <th>Cholesterol</th>\n",
       "      <th>FastingBS</th>\n",
       "      <th>RestingECG</th>\n",
       "      <th>MaxHR</th>\n",
       "      <th>ExerciseAngina</th>\n",
       "      <th>Oldpeak</th>\n",
       "      <th>ST_Slope</th>\n",
       "      <th>HeartDisease</th>\n",
       "    </tr>\n",
       "  </thead>\n",
       "  <tbody>\n",
       "    <tr>\n",
       "      <th>0</th>\n",
       "      <td>40</td>\n",
       "      <td>M</td>\n",
       "      <td>ATA</td>\n",
       "      <td>140</td>\n",
       "      <td>289</td>\n",
       "      <td>0</td>\n",
       "      <td>Normal</td>\n",
       "      <td>172</td>\n",
       "      <td>N</td>\n",
       "      <td>0.0</td>\n",
       "      <td>Up</td>\n",
       "      <td>0</td>\n",
       "    </tr>\n",
       "    <tr>\n",
       "      <th>1</th>\n",
       "      <td>49</td>\n",
       "      <td>F</td>\n",
       "      <td>NAP</td>\n",
       "      <td>160</td>\n",
       "      <td>180</td>\n",
       "      <td>0</td>\n",
       "      <td>Normal</td>\n",
       "      <td>156</td>\n",
       "      <td>N</td>\n",
       "      <td>1.0</td>\n",
       "      <td>Flat</td>\n",
       "      <td>1</td>\n",
       "    </tr>\n",
       "    <tr>\n",
       "      <th>2</th>\n",
       "      <td>37</td>\n",
       "      <td>M</td>\n",
       "      <td>ATA</td>\n",
       "      <td>130</td>\n",
       "      <td>283</td>\n",
       "      <td>0</td>\n",
       "      <td>ST</td>\n",
       "      <td>98</td>\n",
       "      <td>N</td>\n",
       "      <td>0.0</td>\n",
       "      <td>Up</td>\n",
       "      <td>0</td>\n",
       "    </tr>\n",
       "    <tr>\n",
       "      <th>3</th>\n",
       "      <td>48</td>\n",
       "      <td>F</td>\n",
       "      <td>ASY</td>\n",
       "      <td>138</td>\n",
       "      <td>214</td>\n",
       "      <td>0</td>\n",
       "      <td>Normal</td>\n",
       "      <td>108</td>\n",
       "      <td>Y</td>\n",
       "      <td>1.5</td>\n",
       "      <td>Flat</td>\n",
       "      <td>1</td>\n",
       "    </tr>\n",
       "    <tr>\n",
       "      <th>4</th>\n",
       "      <td>54</td>\n",
       "      <td>M</td>\n",
       "      <td>NAP</td>\n",
       "      <td>150</td>\n",
       "      <td>195</td>\n",
       "      <td>0</td>\n",
       "      <td>Normal</td>\n",
       "      <td>122</td>\n",
       "      <td>N</td>\n",
       "      <td>0.0</td>\n",
       "      <td>Up</td>\n",
       "      <td>0</td>\n",
       "    </tr>\n",
       "  </tbody>\n",
       "</table>\n",
       "</div>"
      ],
      "text/plain": [
       "   Age Sex ChestPainType  RestingBP  Cholesterol  ...  MaxHR ExerciseAngina  Oldpeak ST_Slope  HeartDisease\n",
       "0   40   M           ATA        140          289  ...    172              N      0.0       Up             0\n",
       "1   49   F           NAP        160          180  ...    156              N      1.0     Flat             1\n",
       "2   37   M           ATA        130          283  ...     98              N      0.0       Up             0\n",
       "3   48   F           ASY        138          214  ...    108              Y      1.5     Flat             1\n",
       "4   54   M           NAP        150          195  ...    122              N      0.0       Up             0\n",
       "\n",
       "[5 rows x 12 columns]"
      ]
     },
     "execution_count": 3,
     "metadata": {},
     "output_type": "execute_result"
    }
   ],
   "source": [
    "df = pd.read_csv(file_path)\n",
    "df.head()"
   ]
  },
  {
   "cell_type": "code",
   "execution_count": 4,
   "id": "8bce2466-3335-49e7-bf61-d6b0c9fe3683",
   "metadata": {},
   "outputs": [
    {
     "data": {
      "text/plain": [
       "(918, 12)"
      ]
     },
     "execution_count": 4,
     "metadata": {},
     "output_type": "execute_result"
    }
   ],
   "source": [
    "df.shape"
   ]
  },
  {
   "cell_type": "code",
   "execution_count": 5,
   "id": "e1225a83-1353-4a25-b845-268c76b92dcd",
   "metadata": {},
   "outputs": [
    {
     "name": "stdout",
     "output_type": "stream",
     "text": [
      "<class 'pandas.core.frame.DataFrame'>\n",
      "RangeIndex: 918 entries, 0 to 917\n",
      "Data columns (total 12 columns):\n",
      " #   Column          Non-Null Count  Dtype  \n",
      "---  ------          --------------  -----  \n",
      " 0   Age             918 non-null    int64  \n",
      " 1   Sex             918 non-null    object \n",
      " 2   ChestPainType   918 non-null    object \n",
      " 3   RestingBP       918 non-null    int64  \n",
      " 4   Cholesterol     918 non-null    int64  \n",
      " 5   FastingBS       918 non-null    int64  \n",
      " 6   RestingECG      918 non-null    object \n",
      " 7   MaxHR           918 non-null    int64  \n",
      " 8   ExerciseAngina  918 non-null    object \n",
      " 9   Oldpeak         918 non-null    float64\n",
      " 10  ST_Slope        918 non-null    object \n",
      " 11  HeartDisease    918 non-null    int64  \n",
      "dtypes: float64(1), int64(6), object(5)\n",
      "memory usage: 86.2+ KB\n"
     ]
    }
   ],
   "source": [
    "df.info()"
   ]
  },
  {
   "cell_type": "markdown",
   "id": "7b769a13-827b-42c9-a340-e64b208ab73c",
   "metadata": {},
   "source": [
    "**OUTLIER REMOVAL**"
   ]
  },
  {
   "cell_type": "code",
   "execution_count": 6,
   "id": "81fe7485-442f-4e3c-8b16-e62e632ab9de",
   "metadata": {},
   "outputs": [
    {
     "name": "stdout",
     "output_type": "stream",
     "text": [
      "Original shape: (918, 12)\n",
      "Shape after outlier removal: (899, 12)\n"
     ]
    }
   ],
   "source": [
    "# columns to check for outliers\n",
    "cols_to_check = [\"Oldpeak\", \"MaxHR\", \"Cholesterol\", \"Age\", \"RestingBP\"]\n",
    "\n",
    "# calculate mean and standard deviation\n",
    "mean = df[cols_to_check].mean()\n",
    "std = df[cols_to_check].std()\n",
    "\n",
    "# calculate Z-scores manually\n",
    "z_scores = (df[cols_to_check] - mean) / std\n",
    "\n",
    "# keep rows where all Z-scores are between -3 and 3\n",
    "mask = (np.abs(z_scores) < 3).all(axis=1)\n",
    "df_cleaned = df[mask]\n",
    "\n",
    "# Check before and after shapes\n",
    "print(f\"Original shape: {df.shape}\")\n",
    "print(f\"Shape after outlier removal: {df_cleaned.shape}\")"
   ]
  },
  {
   "cell_type": "markdown",
   "id": "5f8c2848-45ea-411b-8eb6-c352c8ec9718",
   "metadata": {},
   "source": [
    "**FEATURE ENCODING**"
   ]
  },
  {
   "cell_type": "code",
   "execution_count": 7,
   "id": "22638740-4a36-4741-901d-42ae55b1413e",
   "metadata": {},
   "outputs": [
    {
     "data": {
      "text/html": [
       "<div>\n",
       "<style scoped>\n",
       "    .dataframe tbody tr th:only-of-type {\n",
       "        vertical-align: middle;\n",
       "    }\n",
       "\n",
       "    .dataframe tbody tr th {\n",
       "        vertical-align: top;\n",
       "    }\n",
       "\n",
       "    .dataframe thead th {\n",
       "        text-align: right;\n",
       "    }\n",
       "</style>\n",
       "<table border=\"1\" class=\"dataframe\">\n",
       "  <thead>\n",
       "    <tr style=\"text-align: right;\">\n",
       "      <th></th>\n",
       "      <th>Age</th>\n",
       "      <th>RestingBP</th>\n",
       "      <th>Cholesterol</th>\n",
       "      <th>FastingBS</th>\n",
       "      <th>MaxHR</th>\n",
       "      <th>Oldpeak</th>\n",
       "      <th>HeartDisease</th>\n",
       "      <th>Sex_M</th>\n",
       "      <th>ChestPainType_ATA</th>\n",
       "      <th>ChestPainType_NAP</th>\n",
       "      <th>ChestPainType_TA</th>\n",
       "      <th>RestingECG_Normal</th>\n",
       "      <th>RestingECG_ST</th>\n",
       "      <th>ExerciseAngina_Y</th>\n",
       "      <th>ST_Slope_Flat</th>\n",
       "      <th>ST_Slope_Up</th>\n",
       "    </tr>\n",
       "  </thead>\n",
       "  <tbody>\n",
       "    <tr>\n",
       "      <th>0</th>\n",
       "      <td>40</td>\n",
       "      <td>140</td>\n",
       "      <td>289</td>\n",
       "      <td>0</td>\n",
       "      <td>172</td>\n",
       "      <td>0.0</td>\n",
       "      <td>0</td>\n",
       "      <td>1</td>\n",
       "      <td>1</td>\n",
       "      <td>0</td>\n",
       "      <td>0</td>\n",
       "      <td>1</td>\n",
       "      <td>0</td>\n",
       "      <td>0</td>\n",
       "      <td>0</td>\n",
       "      <td>1</td>\n",
       "    </tr>\n",
       "    <tr>\n",
       "      <th>1</th>\n",
       "      <td>49</td>\n",
       "      <td>160</td>\n",
       "      <td>180</td>\n",
       "      <td>0</td>\n",
       "      <td>156</td>\n",
       "      <td>1.0</td>\n",
       "      <td>1</td>\n",
       "      <td>0</td>\n",
       "      <td>0</td>\n",
       "      <td>1</td>\n",
       "      <td>0</td>\n",
       "      <td>1</td>\n",
       "      <td>0</td>\n",
       "      <td>0</td>\n",
       "      <td>1</td>\n",
       "      <td>0</td>\n",
       "    </tr>\n",
       "    <tr>\n",
       "      <th>2</th>\n",
       "      <td>37</td>\n",
       "      <td>130</td>\n",
       "      <td>283</td>\n",
       "      <td>0</td>\n",
       "      <td>98</td>\n",
       "      <td>0.0</td>\n",
       "      <td>0</td>\n",
       "      <td>1</td>\n",
       "      <td>1</td>\n",
       "      <td>0</td>\n",
       "      <td>0</td>\n",
       "      <td>0</td>\n",
       "      <td>1</td>\n",
       "      <td>0</td>\n",
       "      <td>0</td>\n",
       "      <td>1</td>\n",
       "    </tr>\n",
       "    <tr>\n",
       "      <th>3</th>\n",
       "      <td>48</td>\n",
       "      <td>138</td>\n",
       "      <td>214</td>\n",
       "      <td>0</td>\n",
       "      <td>108</td>\n",
       "      <td>1.5</td>\n",
       "      <td>1</td>\n",
       "      <td>0</td>\n",
       "      <td>0</td>\n",
       "      <td>0</td>\n",
       "      <td>0</td>\n",
       "      <td>1</td>\n",
       "      <td>0</td>\n",
       "      <td>1</td>\n",
       "      <td>1</td>\n",
       "      <td>0</td>\n",
       "    </tr>\n",
       "    <tr>\n",
       "      <th>4</th>\n",
       "      <td>54</td>\n",
       "      <td>150</td>\n",
       "      <td>195</td>\n",
       "      <td>0</td>\n",
       "      <td>122</td>\n",
       "      <td>0.0</td>\n",
       "      <td>0</td>\n",
       "      <td>1</td>\n",
       "      <td>0</td>\n",
       "      <td>1</td>\n",
       "      <td>0</td>\n",
       "      <td>1</td>\n",
       "      <td>0</td>\n",
       "      <td>0</td>\n",
       "      <td>0</td>\n",
       "      <td>1</td>\n",
       "    </tr>\n",
       "  </tbody>\n",
       "</table>\n",
       "</div>"
      ],
      "text/plain": [
       "   Age  RestingBP  Cholesterol  FastingBS  ...  RestingECG_ST  ExerciseAngina_Y  ST_Slope_Flat  ST_Slope_Up\n",
       "0   40        140          289          0  ...              0                 0              0            1\n",
       "1   49        160          180          0  ...              0                 0              1            0\n",
       "2   37        130          283          0  ...              1                 0              0            1\n",
       "3   48        138          214          0  ...              0                 1              1            0\n",
       "4   54        150          195          0  ...              0                 0              0            1\n",
       "\n",
       "[5 rows x 16 columns]"
      ]
     },
     "execution_count": 7,
     "metadata": {},
     "output_type": "execute_result"
    }
   ],
   "source": [
    "df_encoded = pd.get_dummies(\n",
    "    df_cleaned,\n",
    "    columns=['Sex', 'ChestPainType', 'RestingECG', 'ExerciseAngina', 'ST_Slope'],\n",
    "    drop_first=True,\n",
    "    dtype='int'\n",
    ")\n",
    "\n",
    "df_encoded.head()\n"
   ]
  },
  {
   "cell_type": "markdown",
   "id": "6fca79a2-8276-4536-9573-08b650e1514a",
   "metadata": {},
   "source": [
    "**SEPERATE FEATURES AND TARGET**"
   ]
  },
  {
   "cell_type": "code",
   "execution_count": 8,
   "id": "89d7b2d7-3c77-4a62-8e2b-276ccf46bd6b",
   "metadata": {},
   "outputs": [],
   "source": [
    "X = df_encoded.drop(['HeartDisease'], axis=1)\n",
    "y = df_encoded['HeartDisease']"
   ]
  },
  {
   "cell_type": "code",
   "execution_count": 9,
   "id": "50c710b4-2e83-433d-ad90-3de69dd1d6c3",
   "metadata": {},
   "outputs": [
    {
     "name": "stdout",
     "output_type": "stream",
     "text": [
      "     Age  RestingBP  Cholesterol  FastingBS  ...  RestingECG_ST  ExerciseAngina_Y  ST_Slope_Flat  ST_Slope_Up\n",
      "0     40        140          289          0  ...              0                 0              0            1\n",
      "1     49        160          180          0  ...              0                 0              1            0\n",
      "2     37        130          283          0  ...              1                 0              0            1\n",
      "3     48        138          214          0  ...              0                 1              1            0\n",
      "4     54        150          195          0  ...              0                 0              0            1\n",
      "..   ...        ...          ...        ...  ...            ...               ...            ...          ...\n",
      "913   45        110          264          0  ...              0                 0              1            0\n",
      "914   68        144          193          1  ...              0                 0              1            0\n",
      "915   57        130          131          0  ...              0                 1              1            0\n",
      "916   57        130          236          0  ...              0                 0              1            0\n",
      "917   38        138          175          0  ...              0                 0              0            1\n",
      "\n",
      "[899 rows x 15 columns]\n"
     ]
    }
   ],
   "source": [
    "print(X)"
   ]
  },
  {
   "cell_type": "code",
   "execution_count": 10,
   "id": "ddfa54dd-9aba-4866-88e8-e0144caf0e8f",
   "metadata": {},
   "outputs": [
    {
     "name": "stdout",
     "output_type": "stream",
     "text": [
      "0      0\n",
      "1      1\n",
      "2      0\n",
      "3      1\n",
      "4      0\n",
      "      ..\n",
      "913    1\n",
      "914    1\n",
      "915    1\n",
      "916    1\n",
      "917    0\n",
      "Name: HeartDisease, Length: 899, dtype: int64\n"
     ]
    }
   ],
   "source": [
    "print(y)"
   ]
  },
  {
   "cell_type": "markdown",
   "id": "cc41f4c5-93d9-4c1b-853b-8cb1402724ce",
   "metadata": {},
   "source": [
    "**SCALING**"
   ]
  },
  {
   "cell_type": "code",
   "execution_count": 11,
   "id": "006a5159-19ae-49fb-8eca-50817f783ff3",
   "metadata": {},
   "outputs": [],
   "source": [
    "\n",
    "# Columns to scale\n",
    "cols_to_scale = ['MaxHR', 'Cholesterol', 'RestingBP', 'Oldpeak', 'Age']\n",
    "\n",
    "# Initialize the scaler\n",
    "scaler = StandardScaler()\n",
    "\n",
    "# Fit and transform only the selected columns\n",
    "X[cols_to_scale] = scaler.fit_transform(X[cols_to_scale])\n"
   ]
  },
  {
   "cell_type": "code",
   "execution_count": 12,
   "id": "5327093d-71cf-48f1-a916-56effa750458",
   "metadata": {},
   "outputs": [
    {
     "name": "stdout",
     "output_type": "stream",
     "text": [
      "          Age  RestingBP  Cholesterol  FastingBS  ...  RestingECG_ST  ExerciseAngina_Y  ST_Slope_Flat  ST_Slope_Up\n",
      "0   -1.428154   0.465900     0.849636          0  ...              0                 0              0            1\n",
      "1   -0.475855   1.634714    -0.168122          0  ...              0                 0              1            0\n",
      "2   -1.745588  -0.118507     0.793612          0  ...              1                 0              0            1\n",
      "3   -0.581666   0.349019     0.149344          0  ...              0                 1              1            0\n",
      "4    0.053200   1.050307    -0.028064          0  ...              0                 0              0            1\n",
      "..        ...        ...          ...        ...  ...            ...               ...            ...          ...\n",
      "913 -0.899099  -1.287320     0.616205          0  ...              0                 0              1            0\n",
      "914  1.534554   0.699663    -0.046738          1  ...              0                 0              1            0\n",
      "915  0.370633  -0.118507    -0.625646          0  ...              0                 1              1            0\n",
      "916  0.370633  -0.118507     0.354763          0  ...              0                 0              1            0\n",
      "917 -1.639776   0.349019    -0.214808          0  ...              0                 0              0            1\n",
      "\n",
      "[899 rows x 15 columns]\n"
     ]
    }
   ],
   "source": [
    "print(X)"
   ]
  },
  {
   "cell_type": "markdown",
   "id": "9454e083-bf48-4dc6-9f23-2725a24f4e6e",
   "metadata": {},
   "source": [
    "**SEPERATE TRAINING AND TEST DATA**"
   ]
  },
  {
   "cell_type": "code",
   "execution_count": 13,
   "id": "69a57a7e-3dd9-4f15-97ec-72215f35d688",
   "metadata": {},
   "outputs": [
    {
     "name": "stdout",
     "output_type": "stream",
     "text": [
      "(899, 15) (764, 15) (135, 15)\n"
     ]
    }
   ],
   "source": [
    "X_train, X_test, y_train, y_test = train_test_split(X, y, test_size=0.15, random_state=13)\n",
    "print(X.shape, X_train.shape, X_test.shape)"
   ]
  },
  {
   "cell_type": "markdown",
   "id": "1ec34586-2575-4d9b-8a82-98a4106554db",
   "metadata": {},
   "source": [
    "### Model Selection and Training"
   ]
  },
  {
   "cell_type": "markdown",
   "id": "d8a90bc4-687f-4601-88e9-9134932485f6",
   "metadata": {},
   "source": [
    "**Coss Validation(supoort vector machines)**"
   ]
  },
  {
   "cell_type": "code",
   "execution_count": 15,
   "id": "9978ce26-00df-4c53-9dcf-55a928deac15",
   "metadata": {},
   "outputs": [
    {
     "name": "stdout",
     "output_type": "stream",
     "text": [
      "Cross-validation scores: [0.85620915 0.88888889 0.83660131 0.85620915 0.89473684]\n",
      "Mean Accuracy: 0.8665290677674579\n"
     ]
    }
   ],
   "source": [
    "# Perform 5-fold cross-validation\n",
    "cv_scores = cross_val_score(SVC(), X_train, y_train, cv=5, scoring='accuracy')\n",
    "\n",
    "# Print individual fold scores and mean accuracy\n",
    "print(\"Cross-validation scores:\", cv_scores)\n",
    "print(\"Mean Accuracy:\", cv_scores.mean())"
   ]
  },
  {
   "cell_type": "markdown",
   "id": "a4a4157f-d2c0-4dbd-ba8f-dc20aaff5713",
   "metadata": {},
   "source": [
    "**Bagging(supoort vector machines)**"
   ]
  },
  {
   "cell_type": "code",
   "execution_count": 18,
   "id": "767c62b8-480a-42f9-bd99-33e0608fd373",
   "metadata": {},
   "outputs": [
    {
     "name": "stdout",
     "output_type": "stream",
     "text": [
      "Bagging with SVM - CV Scores: [0.8627451  0.88235294 0.83006536 0.85620915 0.88815789]\n",
      "Mean Accuracy: 0.8639060887512902\n"
     ]
    }
   ],
   "source": [
    "# Base model\n",
    "base_model = SVC()\n",
    "\n",
    "# Bagging wrapper\n",
    "bagging_model = BaggingClassifier(\n",
    "    estimator=base_model,\n",
    "    n_estimators=10,          # number of SVC models in the ensemble\n",
    "    max_samples=0.8,          # fraction of the training data used for each base model\n",
    "    max_features=0.8,         # use 80% features\n",
    "    bootstrap=True,           # sample with replacement\n",
    "    n_jobs=-1,                # use all processors\n",
    "    random_state=42\n",
    ")\n",
    "\n",
    "# Cross-validation\n",
    "cv_scores = cross_val_score(bagging_model, X_train, y_train, cv=5, scoring='accuracy')\n",
    "\n",
    "# Results\n",
    "print(\"Bagging with SVM - CV Scores:\", cv_scores)\n",
    "print(\"Mean Accuracy:\", cv_scores.mean())\n"
   ]
  },
  {
   "cell_type": "markdown",
   "id": "86ba0811-d009-4b10-887a-916cc85de733",
   "metadata": {},
   "source": [
    "**Coss Validation(Decision Tree)**"
   ]
  },
  {
   "cell_type": "code",
   "execution_count": 20,
   "id": "ca3116c3-1dd0-4607-a10b-a8827c9c2548",
   "metadata": {},
   "outputs": [
    {
     "name": "stdout",
     "output_type": "stream",
     "text": [
      "Cross-validation scores: [0.83006536 0.79738562 0.77777778 0.84313725 0.75657895]\n",
      "Mean Accuracy: 0.8009889920880633\n"
     ]
    }
   ],
   "source": [
    "# Perform 5-fold cross-validation\n",
    "cv_scores = cross_val_score(DecisionTreeClassifier(), X_train, y_train, cv=5, scoring='accuracy')\n",
    "\n",
    "# Print individual fold scores and mean accuracy\n",
    "print(\"Cross-validation scores:\", cv_scores)\n",
    "print(\"Mean Accuracy:\", cv_scores.mean())"
   ]
  },
  {
   "cell_type": "markdown",
   "id": "28c51dab-62bc-4f12-a697-0de8b0a78f61",
   "metadata": {},
   "source": [
    "**Bagging(Decision Tree)**"
   ]
  },
  {
   "cell_type": "code",
   "execution_count": 21,
   "id": "032595f5-21a7-439b-9120-f3e4c21bd047",
   "metadata": {},
   "outputs": [
    {
     "name": "stdout",
     "output_type": "stream",
     "text": [
      "Bagging with Decision Tree - CV Scores: [0.8496732  0.84313725 0.79084967 0.8496732  0.84868421]\n",
      "Mean Accuracy: 0.8364035087719298\n"
     ]
    }
   ],
   "source": [
    "# Base model\n",
    "base_model = DecisionTreeClassifier()\n",
    "\n",
    "# Bagging wrapper\n",
    "bagging_model = BaggingClassifier(\n",
    "    estimator=base_model,\n",
    "    n_estimators=10,          # number of DecisionTreeClassifier models in the ensemble\n",
    "    max_samples=0.8,          # fraction of the training data used for each base model\n",
    "    max_features=0.8,         # use 80% features\n",
    "    bootstrap=True,           # sample with replacement\n",
    "    n_jobs=-1,                # use all processors\n",
    "    random_state=42\n",
    ")\n",
    "\n",
    "# Cross-validation\n",
    "cv_scores = cross_val_score(bagging_model, X_train, y_train, cv=5, scoring='accuracy')\n",
    "\n",
    "# Results\n",
    "print(\"Bagging with Decision Tree - CV Scores:\", cv_scores)\n",
    "print(\"Mean Accuracy:\", cv_scores.mean())\n"
   ]
  },
  {
   "cell_type": "markdown",
   "id": "cad2af14-6d54-45ae-b46a-21e9ca534c08",
   "metadata": {},
   "source": [
    "| Model         | CV Accuracy (No Bagging) | CV Accuracy (With Bagging)    |\n",
    "| ------------- | ------------------------ | ----------------------------- |\n",
    "| Decision Tree | 80%                      | **84%**                       |\n",
    "| SVM           | 86%                      | **86%** |\n"
   ]
  },
  {
   "cell_type": "markdown",
   "id": "d6cf6c3c-d5f9-45fd-b9f2-d639ede849cc",
   "metadata": {},
   "source": [
    "| Feature                  | Decision Tree            | SVM                            |\n",
    "| ------------------------ | ------------------------ | ------------------------------ |\n",
    "| Tendency to Overfit      | ✅ Yes (High Variance)    | ❌ No (Low Variance, High Bias) |\n",
    "| Suitable for Bagging     | ✅ Yes                    | ⚠️ No (Limited Benefit)        |\n",
    "| Interpretability         | ✅ Easy to Interpret      | ❌ Hard to Interpret            |\n",
    "| Sensitive to Noise       | ✅ Yes                    | ❌ Robust to Outliers           |\n",
    "| Performance with Bagging | ✅ Improves Significantly | ❌ Minimal Gain, May Slow Down  |\n"
   ]
  }
 ],
 "metadata": {
  "kernelspec": {
   "display_name": "Python 3 (ipykernel)",
   "language": "python",
   "name": "python3"
  },
  "language_info": {
   "codemirror_mode": {
    "name": "ipython",
    "version": 3
   },
   "file_extension": ".py",
   "mimetype": "text/x-python",
   "name": "python",
   "nbconvert_exporter": "python",
   "pygments_lexer": "ipython3",
   "version": "3.12.7"
  }
 },
 "nbformat": 4,
 "nbformat_minor": 5
}
