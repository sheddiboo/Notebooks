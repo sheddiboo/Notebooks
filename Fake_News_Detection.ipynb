{
 "cells": [
  {
   "cell_type": "markdown",
   "id": "ad2a848a-1afd-438b-9975-3d0f3b3104b1",
   "metadata": {},
   "source": [
    "#### About Dataset"
   ]
  },
  {
   "cell_type": "raw",
   "id": "ca798cf8-59c2-4941-8ed1-39b605a65d0a",
   "metadata": {},
   "source": [
    "(WELFake) is a dataset of 72,134 news articles with 35,028 real and 37,106 fake news. \n",
    "For this, authors merged four popular news datasets (i.e. Kaggle, McIntire, Reuters, BuzzFeed Political) to prevent over-fitting of classifiers and to provide more text data for better ML training.\n",
    "\n",
    "Dataset contains four columns: \n",
    "    Serial number (starting from 0)\n",
    "    Title (about the text news heading) \n",
    "    Text (about the news content)\n",
    "    Label (0 = fake and 1 = real)\n",
    "Published in:\n",
    "IEEE Transactions on Computational Social Systems: pp. 1-13 (doi: 10.1109/TCSS.2021.3068519).\n"
   ]
  },
  {
   "cell_type": "markdown",
   "id": "4daefc82-d581-4a0c-95ac-f2f450f287a5",
   "metadata": {},
   "source": [
    "#### Importing dependencies"
   ]
  },
  {
   "cell_type": "code",
   "execution_count": 29,
   "id": "604edef2-8d53-4c07-b406-b306eca43e2d",
   "metadata": {},
   "outputs": [],
   "source": [
    "import numpy as np \n",
    "import pandas as pd \n",
    "import re\n",
    "from nltk.corpus import stopwords\n",
    "from nltk.stem.porter import PorterStemmer\n",
    "from sklearn.feature_extraction.text import TfidfVectorizer\n",
    "from sklearn.model_selection import train_test_split\n",
    "from sklearn.linear_model import LogisticRegression\n",
    "from sklearn.metrics import accuracy_score"
   ]
  },
  {
   "cell_type": "code",
   "execution_count": 30,
   "id": "17b8a1f3-a424-42b5-bc7f-627f23f8dabd",
   "metadata": {},
   "outputs": [
    {
     "name": "stderr",
     "output_type": "stream",
     "text": [
      "[nltk_data] Downloading package stopwords to\n",
      "[nltk_data]     C:\\Users\\USER\\AppData\\Roaming\\nltk_data...\n",
      "[nltk_data]   Package stopwords is already up-to-date!\n"
     ]
    },
    {
     "data": {
      "text/plain": [
       "True"
      ]
     },
     "execution_count": 30,
     "metadata": {},
     "output_type": "execute_result"
    }
   ],
   "source": [
    "import nltk\n",
    "nltk.download('stopwords')"
   ]
  },
  {
   "cell_type": "code",
   "execution_count": 31,
   "id": "1a85a74d-edae-4578-a5e7-14a976d175b4",
   "metadata": {},
   "outputs": [
    {
     "name": "stdout",
     "output_type": "stream",
     "text": [
      "printing the stop words in English\n",
      "['a', 'about', 'above', 'after', 'again', 'against', 'ain', 'all', 'am', 'an', 'and', 'any', 'are', 'aren', \"aren't\", 'as', 'at', 'be', 'because', 'been', 'before', 'being', 'below', 'between', 'both', 'but', 'by', 'can', 'couldn', \"couldn't\", 'd', 'did', 'didn', \"didn't\", 'do', 'does', 'doesn', \"doesn't\", 'doing', 'don', \"don't\", 'down', 'during', 'each', 'few', 'for', 'from', 'further', 'had', 'hadn', \"hadn't\", 'has', 'hasn', \"hasn't\", 'have', 'haven', \"haven't\", 'having', 'he', \"he'd\", \"he'll\", 'her', 'here', 'hers', 'herself', \"he's\", 'him', 'himself', 'his', 'how', 'i', \"i'd\", 'if', \"i'll\", \"i'm\", 'in', 'into', 'is', 'isn', \"isn't\", 'it', \"it'd\", \"it'll\", \"it's\", 'its', 'itself', \"i've\", 'just', 'll', 'm', 'ma', 'me', 'mightn', \"mightn't\", 'more', 'most', 'mustn', \"mustn't\", 'my', 'myself', 'needn', \"needn't\", 'no', 'nor', 'not', 'now', 'o', 'of', 'off', 'on', 'once', 'only', 'or', 'other', 'our', 'ours', 'ourselves', 'out', 'over', 'own', 're', 's', 'same', 'shan', \"shan't\", 'she', \"she'd\", \"she'll\", \"she's\", 'should', 'shouldn', \"shouldn't\", \"should've\", 'so', 'some', 'such', 't', 'than', 'that', \"that'll\", 'the', 'their', 'theirs', 'them', 'themselves', 'then', 'there', 'these', 'they', \"they'd\", \"they'll\", \"they're\", \"they've\", 'this', 'those', 'through', 'to', 'too', 'under', 'until', 'up', 've', 'very', 'was', 'wasn', \"wasn't\", 'we', \"we'd\", \"we'll\", \"we're\", 'were', 'weren', \"weren't\", \"we've\", 'what', 'when', 'where', 'which', 'while', 'who', 'whom', 'why', 'will', 'with', 'won', \"won't\", 'wouldn', \"wouldn't\", 'y', 'you', \"you'd\", \"you'll\", 'your', \"you're\", 'yours', 'yourself', 'yourselves', \"you've\"]\n"
     ]
    }
   ],
   "source": [
    "print('printing the stop words in English')\n",
    "print(stopwords.words('english'))"
   ]
  },
  {
   "cell_type": "markdown",
   "id": "7617fdaa-8323-45ae-8f93-d19a53a84b2a",
   "metadata": {},
   "source": [
    "#### Importing datasets"
   ]
  },
  {
   "cell_type": "code",
   "execution_count": 33,
   "id": "432ab6c9-365f-4429-b30e-cea6eef5db95",
   "metadata": {},
   "outputs": [],
   "source": [
    "# Loading the dataset in a pandas dataframe\n",
    "#news_data = pd.read_csv('C:\\Users\\USER\\Desktop\\Datasets\\WELFake_Dataset.csv', index_col=0)\n",
    "news_data = pd.read_csv('C:/Users/USER/Desktop/Datasets/WELFake_Dataset.csv', index_col=0)\n",
    "\n",
    "news_data.index.name = 'serial_number'"
   ]
  },
  {
   "cell_type": "code",
   "execution_count": 34,
   "id": "dd586380-0f3f-4d03-8030-6f8c2e1d7bca",
   "metadata": {},
   "outputs": [
    {
     "data": {
      "text/plain": [
       "(72134, 3)"
      ]
     },
     "execution_count": 34,
     "metadata": {},
     "output_type": "execute_result"
    }
   ],
   "source": [
    "# Checking the number of rows and colums\n",
    "news_data.shape"
   ]
  },
  {
   "cell_type": "code",
   "execution_count": 35,
   "id": "3e3a8ef5-dcf6-4648-a5d5-48223210b6d0",
   "metadata": {},
   "outputs": [
    {
     "data": {
      "text/html": [
       "<div>\n",
       "<style scoped>\n",
       "    .dataframe tbody tr th:only-of-type {\n",
       "        vertical-align: middle;\n",
       "    }\n",
       "\n",
       "    .dataframe tbody tr th {\n",
       "        vertical-align: top;\n",
       "    }\n",
       "\n",
       "    .dataframe thead th {\n",
       "        text-align: right;\n",
       "    }\n",
       "</style>\n",
       "<table border=\"1\" class=\"dataframe\">\n",
       "  <thead>\n",
       "    <tr style=\"text-align: right;\">\n",
       "      <th></th>\n",
       "      <th>title</th>\n",
       "      <th>text</th>\n",
       "      <th>label</th>\n",
       "    </tr>\n",
       "    <tr>\n",
       "      <th>serial_number</th>\n",
       "      <th></th>\n",
       "      <th></th>\n",
       "      <th></th>\n",
       "    </tr>\n",
       "  </thead>\n",
       "  <tbody>\n",
       "    <tr>\n",
       "      <th>0</th>\n",
       "      <td>LAW ENFORCEMENT ON HIGH ALERT Following Threat...</td>\n",
       "      <td>No comment is expected from Barack Obama Membe...</td>\n",
       "      <td>1</td>\n",
       "    </tr>\n",
       "    <tr>\n",
       "      <th>1</th>\n",
       "      <td>NaN</td>\n",
       "      <td>Did they post their votes for Hillary already?</td>\n",
       "      <td>1</td>\n",
       "    </tr>\n",
       "    <tr>\n",
       "      <th>2</th>\n",
       "      <td>UNBELIEVABLE! OBAMA’S ATTORNEY GENERAL SAYS MO...</td>\n",
       "      <td>Now, most of the demonstrators gathered last ...</td>\n",
       "      <td>1</td>\n",
       "    </tr>\n",
       "    <tr>\n",
       "      <th>3</th>\n",
       "      <td>Bobby Jindal, raised Hindu, uses story of Chri...</td>\n",
       "      <td>A dozen politically active pastors came here f...</td>\n",
       "      <td>0</td>\n",
       "    </tr>\n",
       "    <tr>\n",
       "      <th>4</th>\n",
       "      <td>SATAN 2: Russia unvelis an image of its terrif...</td>\n",
       "      <td>The RS-28 Sarmat missile, dubbed Satan 2, will...</td>\n",
       "      <td>1</td>\n",
       "    </tr>\n",
       "  </tbody>\n",
       "</table>\n",
       "</div>"
      ],
      "text/plain": [
       "                                                           title  ... label\n",
       "serial_number                                                     ...      \n",
       "0              LAW ENFORCEMENT ON HIGH ALERT Following Threat...  ...     1\n",
       "1                                                            NaN  ...     1\n",
       "2              UNBELIEVABLE! OBAMA’S ATTORNEY GENERAL SAYS MO...  ...     1\n",
       "3              Bobby Jindal, raised Hindu, uses story of Chri...  ...     0\n",
       "4              SATAN 2: Russia unvelis an image of its terrif...  ...     1\n",
       "\n",
       "[5 rows x 3 columns]"
      ]
     },
     "execution_count": 35,
     "metadata": {},
     "output_type": "execute_result"
    }
   ],
   "source": [
    "news_data.head(5)"
   ]
  },
  {
   "cell_type": "code",
   "execution_count": 36,
   "id": "f20e9ff8-0f97-4d99-b9f7-29870db6a012",
   "metadata": {},
   "outputs": [
    {
     "data": {
      "text/plain": [
       "title    558\n",
       "text      39\n",
       "label      0\n",
       "dtype: int64"
      ]
     },
     "execution_count": 36,
     "metadata": {},
     "output_type": "execute_result"
    }
   ],
   "source": [
    "# Checking for missing values \n",
    "news_data.isnull().sum()"
   ]
  },
  {
   "cell_type": "code",
   "execution_count": 37,
   "id": "5090ed41-b28b-405a-8ff9-de4a57592731",
   "metadata": {},
   "outputs": [
    {
     "data": {
      "text/plain": [
       "title    0\n",
       "text     0\n",
       "label    0\n",
       "dtype: int64"
      ]
     },
     "execution_count": 37,
     "metadata": {},
     "output_type": "execute_result"
    }
   ],
   "source": [
    "# Replacing the null values with empty strings\n",
    "news_data = news_data.fillna(' ')\n",
    "news_data.isnull().sum()"
   ]
  },
  {
   "cell_type": "code",
   "execution_count": 38,
   "id": "0ecc8bb3-6091-4494-84b0-e78ba795d16c",
   "metadata": {},
   "outputs": [],
   "source": [
    "# Merging the title column with text column \n",
    "news_data['news'] = news_data['title']+\" \"+news_data['text']"
   ]
  },
  {
   "cell_type": "code",
   "execution_count": 39,
   "id": "4ac0dd52-c076-4c56-a9b1-c59c942eb2da",
   "metadata": {},
   "outputs": [
    {
     "data": {
      "text/plain": [
       "serial_number\n",
       "0        LAW ENFORCEMENT ON HIGH ALERT Following Threat...\n",
       "1           Did they post their votes for Hillary already?\n",
       "2        UNBELIEVABLE! OBAMA’S ATTORNEY GENERAL SAYS MO...\n",
       "3        Bobby Jindal, raised Hindu, uses story of Chri...\n",
       "4        SATAN 2: Russia unvelis an image of its terrif...\n",
       "                               ...                        \n",
       "72129    Russians steal research on Trump in hack of U....\n",
       "72130     WATCH: Giuliani Demands That Democrats Apolog...\n",
       "72131    Migrants Refuse To Leave Train At Refugee Camp...\n",
       "72132    Trump tussle gives unpopular Mexican leader mu...\n",
       "72133    Goldman Sachs Endorses Hillary Clinton For Pre...\n",
       "Name: news, Length: 72134, dtype: object"
      ]
     },
     "execution_count": 39,
     "metadata": {},
     "output_type": "execute_result"
    }
   ],
   "source": [
    "news_data['news']"
   ]
  },
  {
   "cell_type": "code",
   "execution_count": 40,
   "id": "d8107f84-e4e4-47b2-9115-b434ca713e09",
   "metadata": {},
   "outputs": [
    {
     "name": "stdout",
     "output_type": "stream",
     "text": [
      "                                                           title  ...                                               news\n",
      "serial_number                                                     ...                                                   \n",
      "0              LAW ENFORCEMENT ON HIGH ALERT Following Threat...  ...  LAW ENFORCEMENT ON HIGH ALERT Following Threat...\n",
      "1                                                                 ...     Did they post their votes for Hillary already?\n",
      "2              UNBELIEVABLE! OBAMA’S ATTORNEY GENERAL SAYS MO...  ...  UNBELIEVABLE! OBAMA’S ATTORNEY GENERAL SAYS MO...\n",
      "3              Bobby Jindal, raised Hindu, uses story of Chri...  ...  Bobby Jindal, raised Hindu, uses story of Chri...\n",
      "4              SATAN 2: Russia unvelis an image of its terrif...  ...  SATAN 2: Russia unvelis an image of its terrif...\n",
      "...                                                          ...  ...                                                ...\n",
      "72129          Russians steal research on Trump in hack of U....  ...  Russians steal research on Trump in hack of U....\n",
      "72130           WATCH: Giuliani Demands That Democrats Apolog...  ...   WATCH: Giuliani Demands That Democrats Apolog...\n",
      "72131          Migrants Refuse To Leave Train At Refugee Camp...  ...  Migrants Refuse To Leave Train At Refugee Camp...\n",
      "72132          Trump tussle gives unpopular Mexican leader mu...  ...  Trump tussle gives unpopular Mexican leader mu...\n",
      "72133          Goldman Sachs Endorses Hillary Clinton For Pre...  ...  Goldman Sachs Endorses Hillary Clinton For Pre...\n",
      "\n",
      "[72134 rows x 3 columns]\n",
      "serial_number\n",
      "0        1\n",
      "1        1\n",
      "2        1\n",
      "3        0\n",
      "4        1\n",
      "        ..\n",
      "72129    0\n",
      "72130    1\n",
      "72131    0\n",
      "72132    0\n",
      "72133    1\n",
      "Name: label, Length: 72134, dtype: int64\n"
     ]
    }
   ],
   "source": [
    "# Seperating data(input variable) and label\n",
    "X = news_data.drop(columns='label',axis=1)\n",
    "Y = news_data['label']\n",
    "print(X)\n",
    "print(Y)"
   ]
  }
 ],
 "metadata": {
  "kernelspec": {
   "display_name": "Python 3 (ipykernel)",
   "language": "python",
   "name": "python3"
  },
  "language_info": {
   "codemirror_mode": {
    "name": "ipython",
    "version": 3
   },
   "file_extension": ".py",
   "mimetype": "text/x-python",
   "name": "python",
   "nbconvert_exporter": "python",
   "pygments_lexer": "ipython3",
   "version": "3.12.7"
  }
 },
 "nbformat": 4,
 "nbformat_minor": 5
}
